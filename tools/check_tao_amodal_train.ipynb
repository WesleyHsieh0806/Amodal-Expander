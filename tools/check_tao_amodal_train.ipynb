{
 "cells": [
  {
   "cell_type": "code",
   "execution_count": 20,
   "metadata": {},
   "outputs": [],
   "source": [
    "import os\n",
    "import json\n",
    "from collections import defaultdict\n",
    "annotation_file = '/home/chengyeh/TAO-Amodal-Root/TAO-GTR/datasets/tao/amodal_annotations/train_with_freeform_amodal_boxes_may12_2022_pure_image_GTR_lvis_v1.json'\n",
    "\n",
    "with open(annotation_file, 'r') as f:\n",
    "    tao_amodal = json.load(f)\n"
   ]
  },
  {
   "cell_type": "code",
   "execution_count": 21,
   "metadata": {},
   "outputs": [
    {
     "name": "stdout",
     "output_type": "stream",
     "text": [
      "# ann w/o bbox: 3491\n",
      "number of annotations: 57801\n",
      "# samples where modal and amodal boxes are different: 40968\n"
     ]
    }
   ],
   "source": [
    "num_diff = 0\n",
    "num_ann_wo_modal_box = 0\n",
    "for ann in tao_amodal['annotations']:\n",
    "    if 'bbox' not in ann:\n",
    "        num_ann_wo_modal_box += 1\n",
    "        continue\n",
    "\n",
    "    if ann['bbox'] != ann['amodal_bbox']:\n",
    "        num_diff += 1\n",
    "\n",
    "print(\"# ann w/o bbox: {}\".format(num_ann_wo_modal_box))\n",
    "print(\"number of annotations: {}\".format(len(tao_amodal['annotations'])))\n",
    "print('# samples where modal and amodal boxes are different: {}'.format(num_diff))"
   ]
  }
 ],
 "metadata": {
  "kernelspec": {
   "display_name": "TAO-Amodal-gtr",
   "language": "python",
   "name": "python3"
  },
  "language_info": {
   "codemirror_mode": {
    "name": "ipython",
    "version": 3
   },
   "file_extension": ".py",
   "mimetype": "text/x-python",
   "name": "python",
   "nbconvert_exporter": "python",
   "pygments_lexer": "ipython3",
   "version": "3.8.16"
  },
  "orig_nbformat": 4
 },
 "nbformat": 4,
 "nbformat_minor": 2
}
