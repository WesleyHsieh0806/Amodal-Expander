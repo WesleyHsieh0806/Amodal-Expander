{
 "cells": [
  {
   "cell_type": "code",
   "execution_count": 1,
   "metadata": {},
   "outputs": [
    {
     "name": "stdout",
     "output_type": "stream",
     "text": [
      "Keys in LVIS+COCO: dict_keys(['info', 'annotations', 'images', 'licenses', 'categories'])\n",
      "Keys in LVIS+COCO_mask: dict_keys(['info', 'annotations', 'images', 'licenses', 'categories'])\n"
     ]
    }
   ],
   "source": [
    "import json\n",
    "\n",
    "gtr_lvis_coco_annotation_path = '/compute/trinity-1-38/chengyeh/lvis/lvis_v1_train+coco_box_500.json'\n",
    "\n",
    "with open(gtr_lvis_coco_annotation_path, 'r') as f:\n",
    "    lvis_coco = json.load(f)\n",
    "\n",
    "print(\"Keys in LVIS+COCO: {}\".format(lvis_coco.keys()))\n",
    "\n",
    "\n",
    "gtr_lvis_coco_annotation_path = '/compute/trinity-1-38/chengyeh/lvis/lvis_v1_train+coco_mask_500.json'\n",
    "\n",
    "with open(gtr_lvis_coco_annotation_path, 'r') as f:\n",
    "    lvis_mask = json.load(f)\n",
    "\n",
    "print(\"Keys in LVIS+COCO_mask: {}\".format(lvis_mask.keys()))"
   ]
  },
  {
   "cell_type": "markdown",
   "metadata": {},
   "source": [
    "# Check Whether Annotations in LVIS+COCO-Mask Are Collected Only from Images in LVIS+COCO-Box"
   ]
  },
  {
   "cell_type": "code",
   "execution_count": 2,
   "metadata": {},
   "outputs": [
    {
     "name": "stderr",
     "output_type": "stream",
     "text": [
      "100%|██████████| 8744/8744 [00:00<00:00, 1831826.29it/s]\n",
      "100%|██████████| 8744/8744 [00:00<00:00, 2528786.75it/s]"
     ]
    },
    {
     "name": "stdout",
     "output_type": "stream",
     "text": [
      "Number of LVIS+COCO-Mask Annotations: 8744\n",
      "Number of LVIS+COCO-Box Annotations: 8744\n"
     ]
    },
    {
     "name": "stderr",
     "output_type": "stream",
     "text": [
      "\n"
     ]
    }
   ],
   "source": [
    "selected_image_ids = set([image['id'] for image in lvis_coco['images']])\n",
    "from tqdm import tqdm\n",
    "for ann in tqdm(lvis_mask['annotations']):\n",
    "    if ann['image_id'] not in selected_image_ids:\n",
    "        raise ValueError('Ann {} not appeared in the toy dataset!'.format(ann))\n",
    "for ann in tqdm(lvis_coco['annotations']):\n",
    "    if ann['image_id'] not in selected_image_ids:\n",
    "        raise ValueError('Ann {} not appeared in the toy dataset!'.format(ann))\n",
    "assert lvis_coco['images'] == lvis_mask['images']\n",
    "print(\"Number of LVIS+COCO-Mask Annotations: {}\".format(len(lvis_mask['annotations'])))\n",
    "print(\"Number of LVIS+COCO-Box Annotations: {}\".format(len(lvis_coco['annotations'])))"
   ]
  }
 ],
 "metadata": {
  "kernelspec": {
   "display_name": "TAO-Amodal-gtr",
   "language": "python",
   "name": "python3"
  },
  "language_info": {
   "codemirror_mode": {
    "name": "ipython",
    "version": 3
   },
   "file_extension": ".py",
   "mimetype": "text/x-python",
   "name": "python",
   "nbconvert_exporter": "python",
   "pygments_lexer": "ipython3",
   "version": "3.8.16"
  },
  "orig_nbformat": 4
 },
 "nbformat": 4,
 "nbformat_minor": 2
}
