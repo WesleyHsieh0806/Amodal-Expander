{
 "cells": [
  {
   "cell_type": "markdown",
   "metadata": {},
   "source": [
    "# Transform TAO-Amodal-Train to Image Dataset\n",
    "\n",
    "To train the Amodal Expander, we need to load each image independently. This could be done by considering each image as an independent video."
   ]
  },
  {
   "cell_type": "code",
   "execution_count": 1,
   "metadata": {},
   "outputs": [],
   "source": [
    "import os\n",
    "import json\n",
    "\n",
    "annotation_path = '/home/chengyeh/TAO-Amodal-Root/TAO-GTR/datasets/tao/amodal_annotations/train_with_freeform_amodal_boxes_may12_2022_GTR_lvis_v1.json'\n",
    "\n",
    "with open(annotation_path, 'r') as f:\n",
    "    tao_amodal_train = json.load(f)\n",
    "\n",
    "\n"
   ]
  },
  {
   "cell_type": "code",
   "execution_count": 2,
   "metadata": {},
   "outputs": [],
   "source": [
    "for image in tao_amodal_train['images']:\n",
    "    image['video_id'] = image['id']\n",
    "\n",
    "\n",
    "for ann in tao_amodal_train['annotations']:\n",
    "    ann['video_id'] = ann['image_id']\n",
    "    \n"
   ]
  },
  {
   "cell_type": "code",
   "execution_count": 3,
   "metadata": {},
   "outputs": [],
   "source": [
    "save_path = annotation_path.replace('GTR_lvis_v1.json', 'pure_image_GTR_lvis_v1.json')\n",
    "\n",
    "with open(save_path, 'w') as f:\n",
    "    json.dump(tao_amodal_train, f)"
   ]
  }
 ],
 "metadata": {
  "kernelspec": {
   "display_name": "TAO-Amodal-gtr",
   "language": "python",
   "name": "python3"
  },
  "language_info": {
   "codemirror_mode": {
    "name": "ipython",
    "version": 3
   },
   "file_extension": ".py",
   "mimetype": "text/x-python",
   "name": "python",
   "nbconvert_exporter": "python",
   "pygments_lexer": "ipython3",
   "version": "3.8.16"
  },
  "orig_nbformat": 4
 },
 "nbformat": 4,
 "nbformat_minor": 2
}
