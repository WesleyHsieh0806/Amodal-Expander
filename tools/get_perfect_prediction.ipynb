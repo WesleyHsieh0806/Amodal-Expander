{
 "cells": [
  {
   "cell_type": "code",
   "execution_count": 1,
   "metadata": {},
   "outputs": [],
   "source": [
    "import json\n",
    "\n",
    "annotation_path = '/compute/trinity-1-38/chengyeh/TAO/amodal_annotations/validation_with_freeform_amodal_boxes_Aug10_2022_oof_visibility_GTR_lvis_v1.json'\n",
    "with open(annotation_path, 'r') as f:\n",
    "    tao_amodal = json.load(f)\n",
    "\n",
    "    "
   ]
  },
  {
   "cell_type": "code",
   "execution_count": 4,
   "metadata": {},
   "outputs": [],
   "source": [
    "from tqdm import tqdm\n",
    "from copy import deepcopy\n",
    "predictions = []\n",
    "id_to_image = {image['id']: image for image in tao_amodal['images']}\n",
    "\n",
    "def is_out_of_frame(amodal_bbox, W, H):\n",
    "    x1, y1 = amodal_bbox[0], amodal_bbox[1]\n",
    "    x2, y2 = amodal_bbox[2] + amodal_bbox[0], amodal_bbox[1] + amodal_bbox[3]\n",
    "\n",
    "    return not(x1 >= 0 and y1 >= 0 and x2 <= (W - 1) and y2 <= (H - 1))\n",
    "\n",
    "for ann in (tao_amodal['annotations']):\n",
    "    img_info = id_to_image[ann['image_id']]\n",
    "    H, W = img_info['height'], img_info['width']\n",
    "\n",
    "    prediction = deepcopy(ann)\n",
    "    prediction['score'] = 1.0\n",
    "    predictions.append(prediction)\n",
    "\n"
   ]
  },
  {
   "cell_type": "code",
   "execution_count": 5,
   "metadata": {},
   "outputs": [
    {
     "name": "stdout",
     "output_type": "stream",
     "text": [
      "Dump Prediction to /data3/chengyeh/TAO-Amodal-experiments/GTR/PerfectPrediction/perfect_prediction_gtr_visibility_GTR_lvis_v1.json ...\n"
     ]
    }
   ],
   "source": [
    "import os\n",
    "save_dir = '/data3/chengyeh/TAO-Amodal-experiments/GTR/PerfectPrediction'\n",
    "\n",
    "if not os.path.isdir(save_dir):\n",
    "    os.makedirs(save_dir)\n",
    "\n",
    "print('Dump Prediction to {} ...'.format(os.path.join(save_dir, 'perfect_prediction_gtr_visibility_GTR_lvis_v1.json')))\n",
    "with open(os.path.join(save_dir, 'perfect_prediction_gtr_visibility_GTR_lvis_v1.json'), 'w') as f:\n",
    "    json.dump(predictions, f)"
   ]
  }
 ],
 "metadata": {
  "kernelspec": {
   "display_name": "TAO-Amodal-gtr",
   "language": "python",
   "name": "python3"
  },
  "language_info": {
   "codemirror_mode": {
    "name": "ipython",
    "version": 3
   },
   "file_extension": ".py",
   "mimetype": "text/x-python",
   "name": "python",
   "nbconvert_exporter": "python",
   "pygments_lexer": "ipython3",
   "version": "3.8.16"
  },
  "orig_nbformat": 4
 },
 "nbformat": 4,
 "nbformat_minor": 2
}
